{
 "cells": [
  {
   "cell_type": "code",
   "execution_count": 1,
   "id": "84a40fa0",
   "metadata": {},
   "outputs": [
    {
     "name": "stdout",
     "output_type": "stream",
     "text": [
      "pip 23.0.1 from C:\\Users\\innovation_lab\\Anaconda3\\lib\\site-packages\\pip (python 3.7)\n",
      "\n",
      "Note: you may need to restart the kernel to use updated packages.\n"
     ]
    }
   ],
   "source": [
    "pip --version"
   ]
  },
  {
   "cell_type": "code",
   "execution_count": 2,
   "id": "5ae5f24d",
   "metadata": {},
   "outputs": [
    {
     "name": "stdout",
     "output_type": "stream",
     "text": [
      "3.7.3\n"
     ]
    }
   ],
   "source": [
    "from platform import python_version\n",
    "print(python_version())"
   ]
  },
  {
   "cell_type": "code",
   "execution_count": 1,
   "id": "4f8e0be2",
   "metadata": {},
   "outputs": [],
   "source": [
    "sampleText1 = \"Welcome to BMW Metaverse world, how can I help today?\"\n",
    "# need to find \"help\"\n",
    "sampleText2 = \"The Avatar opens the door for you\"\n",
    "\n",
    "sampleLongText = \"BMW regularly reviews and evaluates\\\n",
    "its product pricing to flexibly respond to changes in raw materials and vehicle manufacturing costs\"\n",
    "# review/evaluate.   flexiable price "
   ]
  },
  {
   "cell_type": "markdown",
   "id": "dc543cc6",
   "metadata": {},
   "source": [
    "# NLTK-Score/WordType"
   ]
  },
  {
   "cell_type": "code",
   "execution_count": 39,
   "id": "427dcce6",
   "metadata": {},
   "outputs": [],
   "source": [
    "import numpy as np\n",
    "import pandas as pd \n",
    "import os \n",
    "import json\n",
    "import string"
   ]
  },
  {
   "cell_type": "code",
   "execution_count": 3,
   "id": "0d739aa1",
   "metadata": {},
   "outputs": [
    {
     "name": "stderr",
     "output_type": "stream",
     "text": [
      "Using TensorFlow backend.\n"
     ]
    }
   ],
   "source": [
    "from rake_nltk import Rake\n",
    "from spacy import displacy\n",
    "import nltk\n",
    "import operator"
   ]
  },
  {
   "cell_type": "code",
   "execution_count": 4,
   "id": "85247533",
   "metadata": {},
   "outputs": [],
   "source": [
    "from numba import cuda\n",
    "import numpy as np\n",
    "import pandas as pd\n",
    "import spacy"
   ]
  },
  {
   "cell_type": "code",
   "execution_count": 5,
   "id": "4ee577a5",
   "metadata": {},
   "outputs": [
    {
     "name": "stderr",
     "output_type": "stream",
     "text": [
      "[nltk_data] Downloading package stopwords to\n",
      "[nltk_data]     C:\\Users\\innovation_lab\\AppData\\Roaming\\nltk_data...\n",
      "[nltk_data]   Package stopwords is already up-to-date!\n",
      "[nltk_data] Downloading package punkt to\n",
      "[nltk_data]     C:\\Users\\innovation_lab\\AppData\\Roaming\\nltk_data...\n",
      "[nltk_data]   Package punkt is already up-to-date!\n",
      "[nltk_data] Downloading package names to\n",
      "[nltk_data]     C:\\Users\\innovation_lab\\AppData\\Roaming\\nltk_data...\n",
      "[nltk_data]   Package names is already up-to-date!\n",
      "[nltk_data] Downloading package stopwords to\n",
      "[nltk_data]     C:\\Users\\innovation_lab\\AppData\\Roaming\\nltk_data...\n",
      "[nltk_data]   Package stopwords is already up-to-date!\n",
      "[nltk_data] Downloading package state_union to\n",
      "[nltk_data]     C:\\Users\\innovation_lab\\AppData\\Roaming\\nltk_data...\n",
      "[nltk_data]   Package state_union is already up-to-date!\n",
      "[nltk_data] Downloading package twitter_samples to\n",
      "[nltk_data]     C:\\Users\\innovation_lab\\AppData\\Roaming\\nltk_data...\n",
      "[nltk_data]   Package twitter_samples is already up-to-date!\n",
      "[nltk_data] Downloading package movie_reviews to\n",
      "[nltk_data]     C:\\Users\\innovation_lab\\AppData\\Roaming\\nltk_data...\n",
      "[nltk_data]   Package movie_reviews is already up-to-date!\n",
      "[nltk_data] Downloading package averaged_perceptron_tagger to\n",
      "[nltk_data]     C:\\Users\\innovation_lab\\AppData\\Roaming\\nltk_data...\n",
      "[nltk_data]   Package averaged_perceptron_tagger is already up-to-\n",
      "[nltk_data]       date!\n",
      "[nltk_data] Downloading package vader_lexicon to\n",
      "[nltk_data]     C:\\Users\\innovation_lab\\AppData\\Roaming\\nltk_data...\n",
      "[nltk_data]   Package vader_lexicon is already up-to-date!\n",
      "[nltk_data] Downloading package punkt to\n",
      "[nltk_data]     C:\\Users\\innovation_lab\\AppData\\Roaming\\nltk_data...\n",
      "[nltk_data]   Package punkt is already up-to-date!\n"
     ]
    },
    {
     "data": {
      "text/plain": [
       "True"
      ]
     },
     "execution_count": 5,
     "metadata": {},
     "output_type": "execute_result"
    }
   ],
   "source": [
    "nltk.download(['stopwords','punkt',\"names\",\"stopwords\",\"state_union\",\"twitter_samples\",\"movie_reviews\",\"averaged_perceptron_tagger\",\"vader_lexicon\",\"punkt\"])"
   ]
  },
  {
   "cell_type": "code",
   "execution_count": 6,
   "id": "63d84d1a",
   "metadata": {},
   "outputs": [
    {
     "name": "stdout",
     "output_type": "stream",
     "text": [
      "\u001b[38;5;2m✔ Download and installation successful\u001b[0m\n",
      "You can now load the package via spacy.load('en_core_web_sm')\n"
     ]
    }
   ],
   "source": [
    "spacy.cli.download(\"en_core_web_sm\")"
   ]
  },
  {
   "cell_type": "code",
   "execution_count": 31,
   "id": "59352351",
   "metadata": {},
   "outputs": [],
   "source": [
    "from nltk.stem.wordnet import WordNetLemmatizer"
   ]
  },
  {
   "cell_type": "markdown",
   "id": "02c2f0bc",
   "metadata": {},
   "source": [
    "## Word Score"
   ]
  },
  {
   "cell_type": "code",
   "execution_count": 7,
   "id": "72cb11cd",
   "metadata": {},
   "outputs": [],
   "source": [
    "# string to ignore\n",
    "r = Rake(punctuations = [')','(',',',':','),',').','.','?','~','!'])"
   ]
  },
  {
   "cell_type": "code",
   "execution_count": 8,
   "id": "8eac6dc4",
   "metadata": {},
   "outputs": [],
   "source": [
    "typesNeed = [\"VBP\", \"VBN\", \"VBG\", \"VBD\", \"VB\", \"NN\",\"NNS\", \"NNP\", \"NNPS\"]"
   ]
  },
  {
   "cell_type": "code",
   "execution_count": 9,
   "id": "93f57643",
   "metadata": {},
   "outputs": [],
   "source": [
    "# train the model\n",
    "r.extract_keywords_from_text(sampleText1)"
   ]
  },
  {
   "cell_type": "code",
   "execution_count": 10,
   "id": "7de8520e",
   "metadata": {},
   "outputs": [
    {
     "data": {
      "text/html": [
       "<div>\n",
       "<style scoped>\n",
       "    .dataframe tbody tr th:only-of-type {\n",
       "        vertical-align: middle;\n",
       "    }\n",
       "\n",
       "    .dataframe tbody tr th {\n",
       "        vertical-align: top;\n",
       "    }\n",
       "\n",
       "    .dataframe thead th {\n",
       "        text-align: right;\n",
       "    }\n",
       "</style>\n",
       "<table border=\"1\" class=\"dataframe\">\n",
       "  <thead>\n",
       "    <tr style=\"text-align: right;\">\n",
       "      <th></th>\n",
       "      <th>score</th>\n",
       "      <th>phrase</th>\n",
       "    </tr>\n",
       "  </thead>\n",
       "  <tbody>\n",
       "    <tr>\n",
       "      <th>0</th>\n",
       "      <td>9.0</td>\n",
       "      <td>bmw metaverse world</td>\n",
       "    </tr>\n",
       "    <tr>\n",
       "      <th>1</th>\n",
       "      <td>4.0</td>\n",
       "      <td>help today</td>\n",
       "    </tr>\n",
       "    <tr>\n",
       "      <th>2</th>\n",
       "      <td>1.0</td>\n",
       "      <td>welcome</td>\n",
       "    </tr>\n",
       "  </tbody>\n",
       "</table>\n",
       "</div>"
      ],
      "text/plain": [
       "   score               phrase\n",
       "0    9.0  bmw metaverse world\n",
       "1    4.0           help today\n",
       "2    1.0              welcome"
      ]
     },
     "execution_count": 10,
     "metadata": {},
     "output_type": "execute_result"
    }
   ],
   "source": [
    "# get score of each word, sorted already\n",
    "# sampleText1 = \"Welcome to BMW Metaverse world, how can I help today?\"\n",
    "phrase_df = pd.DataFrame(r.get_ranked_phrases_with_scores(), columns = ['score','phrase'])\n",
    "phrase_df.head(5)"
   ]
  },
  {
   "cell_type": "markdown",
   "id": "21065170",
   "metadata": {},
   "source": [
    "## Word Type"
   ]
  },
  {
   "cell_type": "code",
   "execution_count": 11,
   "id": "fc49b0ea",
   "metadata": {},
   "outputs": [
    {
     "name": "stdout",
     "output_type": "stream",
     "text": [
      "[('Welcome', 'VB'), ('to', 'TO'), ('BMW', 'NNP'), ('Metaverse', 'NNP'), ('world', 'NN'), (',', ','), ('how', 'WRB'), ('can', 'MD'), ('I', 'PRP'), ('help', 'VB'), ('today', 'NN'), ('?', '.')]\n",
      "\n",
      "\n",
      "{'welcome': ['VB'], 'bmw metaverse world': ['NNP', 'NNP', 'NN'], 'help today': ['VB', 'NN']}\n"
     ]
    }
   ],
   "source": [
    "# demo token/postTag\n",
    "# sampleText1 = \"Welcome to BMW Metaverse dealer, how can I help today?\"\n",
    "storeTypes = {}\n",
    "s = nltk.word_tokenize(sampleText1)\n",
    "wordsType = nltk.pos_tag(s)\n",
    "print(wordsType)\n",
    "print(\"\\n\")\n",
    "temPhrase = []\n",
    "temTypes = []\n",
    "for w in wordsType:\n",
    "    if w[1] not in typesNeed:\n",
    "        if not temPhrase or not temTypes:\n",
    "            continue\n",
    "        else:\n",
    "            phrase = \" \".join(temPhrase).lower()\n",
    "            storeTypes[phrase] = temTypes.copy()\n",
    "            temPhrase.clear()\n",
    "            temTypes.clear()\n",
    "    else:\n",
    "        temPhrase.append(w[0])\n",
    "        temTypes.append(w[1])\n",
    "print(storeTypes)"
   ]
  },
  {
   "cell_type": "markdown",
   "id": "aeb64ca4",
   "metadata": {},
   "source": [
    "## Configuration of Pegasus"
   ]
  },
  {
   "cell_type": "code",
   "execution_count": 13,
   "id": "f1a8ba52",
   "metadata": {},
   "outputs": [],
   "source": [
    "# import and configure Pegasus Model\n",
    "from transformers import PegasusForConditionalGeneration, PegasusTokenizer\n",
    "import torch"
   ]
  },
  {
   "cell_type": "code",
   "execution_count": 14,
   "id": "c6511094",
   "metadata": {},
   "outputs": [],
   "source": [
    "# Create Tokenizer\n",
    "# can try different model \n",
    "tokenizer = PegasusTokenizer.from_pretrained(\"google/pegasus-xsum\")"
   ]
  },
  {
   "cell_type": "code",
   "execution_count": 15,
   "id": "dc0002d5",
   "metadata": {},
   "outputs": [
    {
     "data": {
      "text/plain": [
       "'cpu'"
      ]
     },
     "execution_count": 15,
     "metadata": {},
     "output_type": "execute_result"
    }
   ],
   "source": [
    "torch_device = 'cuda' if torch.cuda.is_available() else 'cpu'\n",
    "torch_device"
   ]
  },
  {
   "cell_type": "code",
   "execution_count": 16,
   "id": "f6179a64",
   "metadata": {},
   "outputs": [],
   "source": [
    "# create model\n",
    "model = PegasusForConditionalGeneration.from_pretrained(\"google/pegasus-xsum\")"
   ]
  },
  {
   "cell_type": "markdown",
   "id": "a597a9bf",
   "metadata": {},
   "source": [
    "## Perform Abstractive Summarization"
   ]
  },
  {
   "cell_type": "code",
   "execution_count": 18,
   "id": "0a4ed164",
   "metadata": {},
   "outputs": [],
   "source": [
    "# create tokens--number representation of our text\n",
    "#tokens = tokenizer(paragraph1, truncation=True, padding=\"longest\", return_tensors=\"pt\")"
   ]
  },
  {
   "cell_type": "code",
   "execution_count": 19,
   "id": "86a6af56",
   "metadata": {},
   "outputs": [],
   "source": [
    "nlp = spacy.load(\"en_core_web_sm\")"
   ]
  },
  {
   "cell_type": "code",
   "execution_count": 20,
   "id": "2f15fba0",
   "metadata": {},
   "outputs": [
    {
     "data": {
      "text/html": [
       "<span class=\"tex2jax_ignore\"><svg xmlns=\"http://www.w3.org/2000/svg\" xmlns:xlink=\"http://www.w3.org/1999/xlink\" xml:lang=\"en\" id=\"15fca656d90042c58daa1d72b2886777-0\" class=\"displacy\" width=\"1275\" height=\"399.5\" direction=\"ltr\" style=\"max-width: none; height: 399.5px; color: #000000; background: #ffffff; font-family: Arial; direction: ltr\">\n",
       "<text class=\"displacy-token\" fill=\"currentColor\" text-anchor=\"middle\" y=\"309.5\">\n",
       "    <tspan class=\"displacy-word\" fill=\"currentColor\" x=\"50\">The</tspan>\n",
       "    <tspan class=\"displacy-tag\" dy=\"2em\" fill=\"currentColor\" x=\"50\">DET</tspan>\n",
       "</text>\n",
       "\n",
       "<text class=\"displacy-token\" fill=\"currentColor\" text-anchor=\"middle\" y=\"309.5\">\n",
       "    <tspan class=\"displacy-word\" fill=\"currentColor\" x=\"225\">Avatar</tspan>\n",
       "    <tspan class=\"displacy-tag\" dy=\"2em\" fill=\"currentColor\" x=\"225\">PROPN</tspan>\n",
       "</text>\n",
       "\n",
       "<text class=\"displacy-token\" fill=\"currentColor\" text-anchor=\"middle\" y=\"309.5\">\n",
       "    <tspan class=\"displacy-word\" fill=\"currentColor\" x=\"400\">opens</tspan>\n",
       "    <tspan class=\"displacy-tag\" dy=\"2em\" fill=\"currentColor\" x=\"400\">VERB</tspan>\n",
       "</text>\n",
       "\n",
       "<text class=\"displacy-token\" fill=\"currentColor\" text-anchor=\"middle\" y=\"309.5\">\n",
       "    <tspan class=\"displacy-word\" fill=\"currentColor\" x=\"575\">the</tspan>\n",
       "    <tspan class=\"displacy-tag\" dy=\"2em\" fill=\"currentColor\" x=\"575\">DET</tspan>\n",
       "</text>\n",
       "\n",
       "<text class=\"displacy-token\" fill=\"currentColor\" text-anchor=\"middle\" y=\"309.5\">\n",
       "    <tspan class=\"displacy-word\" fill=\"currentColor\" x=\"750\">door</tspan>\n",
       "    <tspan class=\"displacy-tag\" dy=\"2em\" fill=\"currentColor\" x=\"750\">NOUN</tspan>\n",
       "</text>\n",
       "\n",
       "<text class=\"displacy-token\" fill=\"currentColor\" text-anchor=\"middle\" y=\"309.5\">\n",
       "    <tspan class=\"displacy-word\" fill=\"currentColor\" x=\"925\">for</tspan>\n",
       "    <tspan class=\"displacy-tag\" dy=\"2em\" fill=\"currentColor\" x=\"925\">ADP</tspan>\n",
       "</text>\n",
       "\n",
       "<text class=\"displacy-token\" fill=\"currentColor\" text-anchor=\"middle\" y=\"309.5\">\n",
       "    <tspan class=\"displacy-word\" fill=\"currentColor\" x=\"1100\">you</tspan>\n",
       "    <tspan class=\"displacy-tag\" dy=\"2em\" fill=\"currentColor\" x=\"1100\">PRON</tspan>\n",
       "</text>\n",
       "\n",
       "<g class=\"displacy-arrow\">\n",
       "    <path class=\"displacy-arc\" id=\"arrow-15fca656d90042c58daa1d72b2886777-0-0\" stroke-width=\"2px\" d=\"M70,264.5 C70,177.0 215.0,177.0 215.0,264.5\" fill=\"none\" stroke=\"currentColor\"/>\n",
       "    <text dy=\"1.25em\" style=\"font-size: 0.8em; letter-spacing: 1px\">\n",
       "        <textPath xlink:href=\"#arrow-15fca656d90042c58daa1d72b2886777-0-0\" class=\"displacy-label\" startOffset=\"50%\" side=\"left\" fill=\"currentColor\" text-anchor=\"middle\">det</textPath>\n",
       "    </text>\n",
       "    <path class=\"displacy-arrowhead\" d=\"M70,266.5 L62,254.5 78,254.5\" fill=\"currentColor\"/>\n",
       "</g>\n",
       "\n",
       "<g class=\"displacy-arrow\">\n",
       "    <path class=\"displacy-arc\" id=\"arrow-15fca656d90042c58daa1d72b2886777-0-1\" stroke-width=\"2px\" d=\"M245,264.5 C245,177.0 390.0,177.0 390.0,264.5\" fill=\"none\" stroke=\"currentColor\"/>\n",
       "    <text dy=\"1.25em\" style=\"font-size: 0.8em; letter-spacing: 1px\">\n",
       "        <textPath xlink:href=\"#arrow-15fca656d90042c58daa1d72b2886777-0-1\" class=\"displacy-label\" startOffset=\"50%\" side=\"left\" fill=\"currentColor\" text-anchor=\"middle\">nsubj</textPath>\n",
       "    </text>\n",
       "    <path class=\"displacy-arrowhead\" d=\"M245,266.5 L237,254.5 253,254.5\" fill=\"currentColor\"/>\n",
       "</g>\n",
       "\n",
       "<g class=\"displacy-arrow\">\n",
       "    <path class=\"displacy-arc\" id=\"arrow-15fca656d90042c58daa1d72b2886777-0-2\" stroke-width=\"2px\" d=\"M595,264.5 C595,177.0 740.0,177.0 740.0,264.5\" fill=\"none\" stroke=\"currentColor\"/>\n",
       "    <text dy=\"1.25em\" style=\"font-size: 0.8em; letter-spacing: 1px\">\n",
       "        <textPath xlink:href=\"#arrow-15fca656d90042c58daa1d72b2886777-0-2\" class=\"displacy-label\" startOffset=\"50%\" side=\"left\" fill=\"currentColor\" text-anchor=\"middle\">det</textPath>\n",
       "    </text>\n",
       "    <path class=\"displacy-arrowhead\" d=\"M595,266.5 L587,254.5 603,254.5\" fill=\"currentColor\"/>\n",
       "</g>\n",
       "\n",
       "<g class=\"displacy-arrow\">\n",
       "    <path class=\"displacy-arc\" id=\"arrow-15fca656d90042c58daa1d72b2886777-0-3\" stroke-width=\"2px\" d=\"M420,264.5 C420,89.5 745.0,89.5 745.0,264.5\" fill=\"none\" stroke=\"currentColor\"/>\n",
       "    <text dy=\"1.25em\" style=\"font-size: 0.8em; letter-spacing: 1px\">\n",
       "        <textPath xlink:href=\"#arrow-15fca656d90042c58daa1d72b2886777-0-3\" class=\"displacy-label\" startOffset=\"50%\" side=\"left\" fill=\"currentColor\" text-anchor=\"middle\">dobj</textPath>\n",
       "    </text>\n",
       "    <path class=\"displacy-arrowhead\" d=\"M745.0,266.5 L753.0,254.5 737.0,254.5\" fill=\"currentColor\"/>\n",
       "</g>\n",
       "\n",
       "<g class=\"displacy-arrow\">\n",
       "    <path class=\"displacy-arc\" id=\"arrow-15fca656d90042c58daa1d72b2886777-0-4\" stroke-width=\"2px\" d=\"M420,264.5 C420,2.0 925.0,2.0 925.0,264.5\" fill=\"none\" stroke=\"currentColor\"/>\n",
       "    <text dy=\"1.25em\" style=\"font-size: 0.8em; letter-spacing: 1px\">\n",
       "        <textPath xlink:href=\"#arrow-15fca656d90042c58daa1d72b2886777-0-4\" class=\"displacy-label\" startOffset=\"50%\" side=\"left\" fill=\"currentColor\" text-anchor=\"middle\">dative</textPath>\n",
       "    </text>\n",
       "    <path class=\"displacy-arrowhead\" d=\"M925.0,266.5 L933.0,254.5 917.0,254.5\" fill=\"currentColor\"/>\n",
       "</g>\n",
       "\n",
       "<g class=\"displacy-arrow\">\n",
       "    <path class=\"displacy-arc\" id=\"arrow-15fca656d90042c58daa1d72b2886777-0-5\" stroke-width=\"2px\" d=\"M945,264.5 C945,177.0 1090.0,177.0 1090.0,264.5\" fill=\"none\" stroke=\"currentColor\"/>\n",
       "    <text dy=\"1.25em\" style=\"font-size: 0.8em; letter-spacing: 1px\">\n",
       "        <textPath xlink:href=\"#arrow-15fca656d90042c58daa1d72b2886777-0-5\" class=\"displacy-label\" startOffset=\"50%\" side=\"left\" fill=\"currentColor\" text-anchor=\"middle\">pobj</textPath>\n",
       "    </text>\n",
       "    <path class=\"displacy-arrowhead\" d=\"M1090.0,266.5 L1098.0,254.5 1082.0,254.5\" fill=\"currentColor\"/>\n",
       "</g>\n",
       "</svg></span>"
      ],
      "text/plain": [
       "<IPython.core.display.HTML object>"
      ]
     },
     "metadata": {},
     "output_type": "display_data"
    }
   ],
   "source": [
    "# sampleText2 = \"The Avatar opens the door for you\"\n",
    "displacy.render(nlp(sampleText2), style = \"dep\", jupyter = True)"
   ]
  },
  {
   "cell_type": "markdown",
   "id": "725e4e85",
   "metadata": {},
   "source": [
    "## Noun Verb Noun"
   ]
  },
  {
   "cell_type": "code",
   "execution_count": 21,
   "id": "bb1b5494",
   "metadata": {},
   "outputs": [],
   "source": [
    "def nvn_split_punc(text):\n",
    "    # Storing the sets of punctuation in variable result\n",
    "    result = string.punctuation\n",
    "\n",
    "    for i in text:\n",
    "        if i in result:\n",
    "            test_str=text.replace(i,\"*\"+i+\"*\")\n",
    "    res=text.split(\"*\")\n",
    "    return res"
   ]
  },
  {
   "cell_type": "code",
   "execution_count": 22,
   "id": "049b5588",
   "metadata": {},
   "outputs": [],
   "source": [
    "# nsubj: object of the verb \n",
    "# nsubjpass: passive nominal subject\n",
    "# dobj: direct object \n",
    "# iobj: indirect object \n",
    "def nvn(text):\n",
    "    texts = nvn_split_punc(text)\n",
    "    \n",
    "    sents = list()\n",
    "    \n",
    "    for t in texts:\n",
    "        doc = nlp(t)\n",
    "        sent = []\n",
    "\n",
    "        for token in doc:\n",
    "            # if the token is a verb\n",
    "            if (token.pos_=='VERB'):\n",
    "                phrase =''\n",
    "                left = ''\n",
    "                right = ''\n",
    "                # only extract noun or pronoun subjects\n",
    "                for sub_tok in token.lefts:\n",
    "                    if (sub_tok.dep_ in ['nsubj','nsubjpass']) and (sub_tok.pos_ in ['NOUN','PROPN','PRON']):\n",
    "                        # add subject to the phrase\n",
    "                        phrase += sub_tok.text\n",
    "                        # save the root of the verb in phrase\n",
    "                        phrase += ' '+token.lemma_ \n",
    "                        # check for noun or pronoun direct objects\n",
    "                        for sub_tok in token.rights:\n",
    "                            # save the object in the phrase\n",
    "                            if (sub_tok.dep_ in ['dobj', 'iobj','pobj']) and (sub_tok.pos_ in ['NOUN','PROPN']):\n",
    "                                phrase += ' '+sub_tok.text\n",
    "                                sent.append(phrase)\n",
    "\n",
    "                        if len(sent)>0:  \n",
    "                            print(sent)\n",
    "                            sents.append(sent)\n",
    "    return sents\n"
   ]
  },
  {
   "cell_type": "code",
   "execution_count": 23,
   "id": "fa6bb854",
   "metadata": {},
   "outputs": [
    {
     "name": "stdout",
     "output_type": "stream",
     "text": [
      "['Avatar open door']\n",
      "[['Avatar open door']]\n"
     ]
    },
    {
     "data": {
      "text/html": [
       "<div>\n",
       "<style scoped>\n",
       "    .dataframe tbody tr th:only-of-type {\n",
       "        vertical-align: middle;\n",
       "    }\n",
       "\n",
       "    .dataframe tbody tr th {\n",
       "        vertical-align: top;\n",
       "    }\n",
       "\n",
       "    .dataframe thead th {\n",
       "        text-align: right;\n",
       "    }\n",
       "</style>\n",
       "<table border=\"1\" class=\"dataframe\">\n",
       "  <thead>\n",
       "    <tr style=\"text-align: right;\">\n",
       "      <th></th>\n",
       "      <th>Noun1</th>\n",
       "      <th>Noun2</th>\n",
       "      <th>Sent</th>\n",
       "      <th>Verb</th>\n",
       "    </tr>\n",
       "  </thead>\n",
       "  <tbody>\n",
       "    <tr>\n",
       "      <th>0</th>\n",
       "      <td>[Avatar]</td>\n",
       "      <td>[door]</td>\n",
       "      <td>Avatar open door</td>\n",
       "      <td>open</td>\n",
       "    </tr>\n",
       "  </tbody>\n",
       "</table>\n",
       "</div>"
      ],
      "text/plain": [
       "      Noun1   Noun2              Sent  Verb\n",
       "0  [Avatar]  [door]  Avatar open door  open"
      ]
     },
     "execution_count": 23,
     "metadata": {},
     "output_type": "execute_result"
    }
   ],
   "source": [
    "# sampleText2 = \"The Avatar opens the door for you\"\n",
    "def get_df_nvn(text):\n",
    "    output = nvn(text)\n",
    "    print(output)\n",
    "\n",
    "    # iterating over all the outputs from the sentence\n",
    "    res_dict = list()\n",
    "    for sent in output:\n",
    "        for phrase in sent:\n",
    "            n1, v, n2 = phrase.split()[:1], phrase.split()[1], phrase.split()[2:]\n",
    "            # append to list, along with the sentence\n",
    "            dis_dict = {'Sent':phrase,'Noun1':n1,'Verb':v,'Noun2':n2}\n",
    "            res_dict.append(dis_dict)\n",
    "\n",
    "    df_nvn = pd.DataFrame(res_dict)\n",
    "    return df_nvn\n",
    "get_df_nvn(sampleText2)\n",
    "#******** what if there is multiple nsubj or obj\n"
   ]
  },
  {
   "cell_type": "code",
   "execution_count": 24,
   "id": "c8a9fd9e",
   "metadata": {},
   "outputs": [
    {
     "data": {
      "text/html": [
       "<span class=\"tex2jax_ignore\"><svg xmlns=\"http://www.w3.org/2000/svg\" xmlns:xlink=\"http://www.w3.org/1999/xlink\" xml:lang=\"en\" id=\"3fa3eead0892497db7f8f41597a8efff-0\" class=\"displacy\" width=\"1800\" height=\"487.0\" direction=\"ltr\" style=\"max-width: none; height: 487.0px; color: #000000; background: #ffffff; font-family: Arial; direction: ltr\">\n",
       "<text class=\"displacy-token\" fill=\"currentColor\" text-anchor=\"middle\" y=\"397.0\">\n",
       "    <tspan class=\"displacy-word\" fill=\"currentColor\" x=\"50\">Welcome</tspan>\n",
       "    <tspan class=\"displacy-tag\" dy=\"2em\" fill=\"currentColor\" x=\"50\">VERB</tspan>\n",
       "</text>\n",
       "\n",
       "<text class=\"displacy-token\" fill=\"currentColor\" text-anchor=\"middle\" y=\"397.0\">\n",
       "    <tspan class=\"displacy-word\" fill=\"currentColor\" x=\"225\">to</tspan>\n",
       "    <tspan class=\"displacy-tag\" dy=\"2em\" fill=\"currentColor\" x=\"225\">ADP</tspan>\n",
       "</text>\n",
       "\n",
       "<text class=\"displacy-token\" fill=\"currentColor\" text-anchor=\"middle\" y=\"397.0\">\n",
       "    <tspan class=\"displacy-word\" fill=\"currentColor\" x=\"400\">BMW</tspan>\n",
       "    <tspan class=\"displacy-tag\" dy=\"2em\" fill=\"currentColor\" x=\"400\">PROPN</tspan>\n",
       "</text>\n",
       "\n",
       "<text class=\"displacy-token\" fill=\"currentColor\" text-anchor=\"middle\" y=\"397.0\">\n",
       "    <tspan class=\"displacy-word\" fill=\"currentColor\" x=\"575\">Metaverse</tspan>\n",
       "    <tspan class=\"displacy-tag\" dy=\"2em\" fill=\"currentColor\" x=\"575\">PROPN</tspan>\n",
       "</text>\n",
       "\n",
       "<text class=\"displacy-token\" fill=\"currentColor\" text-anchor=\"middle\" y=\"397.0\">\n",
       "    <tspan class=\"displacy-word\" fill=\"currentColor\" x=\"750\">world,</tspan>\n",
       "    <tspan class=\"displacy-tag\" dy=\"2em\" fill=\"currentColor\" x=\"750\">NOUN</tspan>\n",
       "</text>\n",
       "\n",
       "<text class=\"displacy-token\" fill=\"currentColor\" text-anchor=\"middle\" y=\"397.0\">\n",
       "    <tspan class=\"displacy-word\" fill=\"currentColor\" x=\"925\">how</tspan>\n",
       "    <tspan class=\"displacy-tag\" dy=\"2em\" fill=\"currentColor\" x=\"925\">SCONJ</tspan>\n",
       "</text>\n",
       "\n",
       "<text class=\"displacy-token\" fill=\"currentColor\" text-anchor=\"middle\" y=\"397.0\">\n",
       "    <tspan class=\"displacy-word\" fill=\"currentColor\" x=\"1100\">can</tspan>\n",
       "    <tspan class=\"displacy-tag\" dy=\"2em\" fill=\"currentColor\" x=\"1100\">AUX</tspan>\n",
       "</text>\n",
       "\n",
       "<text class=\"displacy-token\" fill=\"currentColor\" text-anchor=\"middle\" y=\"397.0\">\n",
       "    <tspan class=\"displacy-word\" fill=\"currentColor\" x=\"1275\">I</tspan>\n",
       "    <tspan class=\"displacy-tag\" dy=\"2em\" fill=\"currentColor\" x=\"1275\">PRON</tspan>\n",
       "</text>\n",
       "\n",
       "<text class=\"displacy-token\" fill=\"currentColor\" text-anchor=\"middle\" y=\"397.0\">\n",
       "    <tspan class=\"displacy-word\" fill=\"currentColor\" x=\"1450\">help</tspan>\n",
       "    <tspan class=\"displacy-tag\" dy=\"2em\" fill=\"currentColor\" x=\"1450\">VERB</tspan>\n",
       "</text>\n",
       "\n",
       "<text class=\"displacy-token\" fill=\"currentColor\" text-anchor=\"middle\" y=\"397.0\">\n",
       "    <tspan class=\"displacy-word\" fill=\"currentColor\" x=\"1625\">today?</tspan>\n",
       "    <tspan class=\"displacy-tag\" dy=\"2em\" fill=\"currentColor\" x=\"1625\">NOUN</tspan>\n",
       "</text>\n",
       "\n",
       "<g class=\"displacy-arrow\">\n",
       "    <path class=\"displacy-arc\" id=\"arrow-3fa3eead0892497db7f8f41597a8efff-0-0\" stroke-width=\"2px\" d=\"M70,352.0 C70,2.0 1450.0,2.0 1450.0,352.0\" fill=\"none\" stroke=\"currentColor\"/>\n",
       "    <text dy=\"1.25em\" style=\"font-size: 0.8em; letter-spacing: 1px\">\n",
       "        <textPath xlink:href=\"#arrow-3fa3eead0892497db7f8f41597a8efff-0-0\" class=\"displacy-label\" startOffset=\"50%\" side=\"left\" fill=\"currentColor\" text-anchor=\"middle\">advcl</textPath>\n",
       "    </text>\n",
       "    <path class=\"displacy-arrowhead\" d=\"M70,354.0 L62,342.0 78,342.0\" fill=\"currentColor\"/>\n",
       "</g>\n",
       "\n",
       "<g class=\"displacy-arrow\">\n",
       "    <path class=\"displacy-arc\" id=\"arrow-3fa3eead0892497db7f8f41597a8efff-0-1\" stroke-width=\"2px\" d=\"M70,352.0 C70,264.5 210.0,264.5 210.0,352.0\" fill=\"none\" stroke=\"currentColor\"/>\n",
       "    <text dy=\"1.25em\" style=\"font-size: 0.8em; letter-spacing: 1px\">\n",
       "        <textPath xlink:href=\"#arrow-3fa3eead0892497db7f8f41597a8efff-0-1\" class=\"displacy-label\" startOffset=\"50%\" side=\"left\" fill=\"currentColor\" text-anchor=\"middle\">prep</textPath>\n",
       "    </text>\n",
       "    <path class=\"displacy-arrowhead\" d=\"M210.0,354.0 L218.0,342.0 202.0,342.0\" fill=\"currentColor\"/>\n",
       "</g>\n",
       "\n",
       "<g class=\"displacy-arrow\">\n",
       "    <path class=\"displacy-arc\" id=\"arrow-3fa3eead0892497db7f8f41597a8efff-0-2\" stroke-width=\"2px\" d=\"M420,352.0 C420,264.5 560.0,264.5 560.0,352.0\" fill=\"none\" stroke=\"currentColor\"/>\n",
       "    <text dy=\"1.25em\" style=\"font-size: 0.8em; letter-spacing: 1px\">\n",
       "        <textPath xlink:href=\"#arrow-3fa3eead0892497db7f8f41597a8efff-0-2\" class=\"displacy-label\" startOffset=\"50%\" side=\"left\" fill=\"currentColor\" text-anchor=\"middle\">compound</textPath>\n",
       "    </text>\n",
       "    <path class=\"displacy-arrowhead\" d=\"M420,354.0 L412,342.0 428,342.0\" fill=\"currentColor\"/>\n",
       "</g>\n",
       "\n",
       "<g class=\"displacy-arrow\">\n",
       "    <path class=\"displacy-arc\" id=\"arrow-3fa3eead0892497db7f8f41597a8efff-0-3\" stroke-width=\"2px\" d=\"M595,352.0 C595,264.5 735.0,264.5 735.0,352.0\" fill=\"none\" stroke=\"currentColor\"/>\n",
       "    <text dy=\"1.25em\" style=\"font-size: 0.8em; letter-spacing: 1px\">\n",
       "        <textPath xlink:href=\"#arrow-3fa3eead0892497db7f8f41597a8efff-0-3\" class=\"displacy-label\" startOffset=\"50%\" side=\"left\" fill=\"currentColor\" text-anchor=\"middle\">compound</textPath>\n",
       "    </text>\n",
       "    <path class=\"displacy-arrowhead\" d=\"M595,354.0 L587,342.0 603,342.0\" fill=\"currentColor\"/>\n",
       "</g>\n",
       "\n",
       "<g class=\"displacy-arrow\">\n",
       "    <path class=\"displacy-arc\" id=\"arrow-3fa3eead0892497db7f8f41597a8efff-0-4\" stroke-width=\"2px\" d=\"M245,352.0 C245,177.0 740.0,177.0 740.0,352.0\" fill=\"none\" stroke=\"currentColor\"/>\n",
       "    <text dy=\"1.25em\" style=\"font-size: 0.8em; letter-spacing: 1px\">\n",
       "        <textPath xlink:href=\"#arrow-3fa3eead0892497db7f8f41597a8efff-0-4\" class=\"displacy-label\" startOffset=\"50%\" side=\"left\" fill=\"currentColor\" text-anchor=\"middle\">pobj</textPath>\n",
       "    </text>\n",
       "    <path class=\"displacy-arrowhead\" d=\"M740.0,354.0 L748.0,342.0 732.0,342.0\" fill=\"currentColor\"/>\n",
       "</g>\n",
       "\n",
       "<g class=\"displacy-arrow\">\n",
       "    <path class=\"displacy-arc\" id=\"arrow-3fa3eead0892497db7f8f41597a8efff-0-5\" stroke-width=\"2px\" d=\"M945,352.0 C945,89.5 1445.0,89.5 1445.0,352.0\" fill=\"none\" stroke=\"currentColor\"/>\n",
       "    <text dy=\"1.25em\" style=\"font-size: 0.8em; letter-spacing: 1px\">\n",
       "        <textPath xlink:href=\"#arrow-3fa3eead0892497db7f8f41597a8efff-0-5\" class=\"displacy-label\" startOffset=\"50%\" side=\"left\" fill=\"currentColor\" text-anchor=\"middle\">advmod</textPath>\n",
       "    </text>\n",
       "    <path class=\"displacy-arrowhead\" d=\"M945,354.0 L937,342.0 953,342.0\" fill=\"currentColor\"/>\n",
       "</g>\n",
       "\n",
       "<g class=\"displacy-arrow\">\n",
       "    <path class=\"displacy-arc\" id=\"arrow-3fa3eead0892497db7f8f41597a8efff-0-6\" stroke-width=\"2px\" d=\"M1120,352.0 C1120,177.0 1440.0,177.0 1440.0,352.0\" fill=\"none\" stroke=\"currentColor\"/>\n",
       "    <text dy=\"1.25em\" style=\"font-size: 0.8em; letter-spacing: 1px\">\n",
       "        <textPath xlink:href=\"#arrow-3fa3eead0892497db7f8f41597a8efff-0-6\" class=\"displacy-label\" startOffset=\"50%\" side=\"left\" fill=\"currentColor\" text-anchor=\"middle\">aux</textPath>\n",
       "    </text>\n",
       "    <path class=\"displacy-arrowhead\" d=\"M1120,354.0 L1112,342.0 1128,342.0\" fill=\"currentColor\"/>\n",
       "</g>\n",
       "\n",
       "<g class=\"displacy-arrow\">\n",
       "    <path class=\"displacy-arc\" id=\"arrow-3fa3eead0892497db7f8f41597a8efff-0-7\" stroke-width=\"2px\" d=\"M1295,352.0 C1295,264.5 1435.0,264.5 1435.0,352.0\" fill=\"none\" stroke=\"currentColor\"/>\n",
       "    <text dy=\"1.25em\" style=\"font-size: 0.8em; letter-spacing: 1px\">\n",
       "        <textPath xlink:href=\"#arrow-3fa3eead0892497db7f8f41597a8efff-0-7\" class=\"displacy-label\" startOffset=\"50%\" side=\"left\" fill=\"currentColor\" text-anchor=\"middle\">nsubj</textPath>\n",
       "    </text>\n",
       "    <path class=\"displacy-arrowhead\" d=\"M1295,354.0 L1287,342.0 1303,342.0\" fill=\"currentColor\"/>\n",
       "</g>\n",
       "\n",
       "<g class=\"displacy-arrow\">\n",
       "    <path class=\"displacy-arc\" id=\"arrow-3fa3eead0892497db7f8f41597a8efff-0-8\" stroke-width=\"2px\" d=\"M1470,352.0 C1470,264.5 1610.0,264.5 1610.0,352.0\" fill=\"none\" stroke=\"currentColor\"/>\n",
       "    <text dy=\"1.25em\" style=\"font-size: 0.8em; letter-spacing: 1px\">\n",
       "        <textPath xlink:href=\"#arrow-3fa3eead0892497db7f8f41597a8efff-0-8\" class=\"displacy-label\" startOffset=\"50%\" side=\"left\" fill=\"currentColor\" text-anchor=\"middle\">npadvmod</textPath>\n",
       "    </text>\n",
       "    <path class=\"displacy-arrowhead\" d=\"M1610.0,354.0 L1618.0,342.0 1602.0,342.0\" fill=\"currentColor\"/>\n",
       "</g>\n",
       "</svg></span>"
      ],
      "text/plain": [
       "<IPython.core.display.HTML object>"
      ]
     },
     "metadata": {},
     "output_type": "display_data"
    }
   ],
   "source": [
    "# sampleText2 = \"The Avatar opens the door for you\"\n",
    "displacy.render(nlp(sampleText1), style = \"dep\", jupyter = True)"
   ]
  },
  {
   "cell_type": "code",
   "execution_count": 25,
   "id": "2e8dacba",
   "metadata": {},
   "outputs": [
    {
     "name": "stdout",
     "output_type": "stream",
     "text": [
      "['she read book']\n",
      "[['she read book']]\n"
     ]
    },
    {
     "data": {
      "text/html": [
       "<div>\n",
       "<style scoped>\n",
       "    .dataframe tbody tr th:only-of-type {\n",
       "        vertical-align: middle;\n",
       "    }\n",
       "\n",
       "    .dataframe tbody tr th {\n",
       "        vertical-align: top;\n",
       "    }\n",
       "\n",
       "    .dataframe thead th {\n",
       "        text-align: right;\n",
       "    }\n",
       "</style>\n",
       "<table border=\"1\" class=\"dataframe\">\n",
       "  <thead>\n",
       "    <tr style=\"text-align: right;\">\n",
       "      <th></th>\n",
       "      <th>Noun1</th>\n",
       "      <th>Noun2</th>\n",
       "      <th>Sent</th>\n",
       "      <th>Verb</th>\n",
       "    </tr>\n",
       "  </thead>\n",
       "  <tbody>\n",
       "    <tr>\n",
       "      <th>0</th>\n",
       "      <td>[she]</td>\n",
       "      <td>[book]</td>\n",
       "      <td>she read book</td>\n",
       "      <td>read</td>\n",
       "    </tr>\n",
       "  </tbody>\n",
       "</table>\n",
       "</div>"
      ],
      "text/plain": [
       "   Noun1   Noun2           Sent  Verb\n",
       "0  [she]  [book]  she read book  read"
      ]
     },
     "execution_count": 25,
     "metadata": {},
     "output_type": "execute_result"
    }
   ],
   "source": [
    "sampleText3 = \"Never had she read such a sad book as The Coldest Tear.\"\n",
    "\n",
    "get_df_nvn(sampleText3)"
   ]
  },
  {
   "cell_type": "markdown",
   "id": "a32281f5",
   "metadata": {},
   "source": [
    "# Command Extraction"
   ]
  },
  {
   "cell_type": "markdown",
   "id": "4e024d24",
   "metadata": {},
   "source": [
    "## Adjective Noun Structure"
   ]
  },
  {
   "cell_type": "code",
   "execution_count": 80,
   "id": "b7d51e5d",
   "metadata": {},
   "outputs": [],
   "source": [
    "# nsubj: object of the verb \n",
    "# nsubjpass: passive nominal subject\n",
    "# dobj: direct object \n",
    "# iobj: indirect object \n",
    "def nvn_an(text):\n",
    "    texts = nvn_split_punc(text)\n",
    "    \n",
    "    # \n",
    "    sents = []\n",
    "    for t in texts:\n",
    "        doc = nlp(t)\n",
    "        #displacy.render(doc, style = \"dep\", jupyter = True)\n",
    "        # I open the back door:-> key: door value:{key(nvn: [I open door], adj-n: [back door])}\n",
    "        sent = dict()\n",
    "        pat = list()\n",
    "        \n",
    "        for token in doc:\n",
    "            noun_verb = ''\n",
    "            phrase_adj = ''\n",
    "            \n",
    "            one_sent = {\n",
    "                \"verb\":noun_verb,\n",
    "                \"adj\":[]\n",
    "            }\n",
    "            \n",
    "            # if the token is a verb\n",
    "            if (token.pos_=='NOUN')and(token.dep_ in ['dobj','pobj','nsubj','nsubjpass']):\n",
    "                # iterate over the children nodes\n",
    "                for subtoken in token.children:\n",
    "                    # if word is an adjective or has a compound dependency\n",
    "                    if (subtoken.pos_ == 'ADJ') or (subtoken.dep_ == 'compound'):\n",
    "                        phrase_adj += subtoken.text\n",
    "                if token.head.pos_ is not None and token.head.pos_ == \"VERB\":\n",
    "                    noun_verb = token.head.text\n",
    "                    \n",
    "                if len(phrase_adj) > 0:\n",
    "                    pat.append(phrase_adj)\n",
    "                            \n",
    "            if len(noun_verb)>0:\n",
    "                one_sent[\"verb\"]=noun_verb\n",
    "            if len(phrase_adj)>0:\n",
    "                one_sent[\"adj\"] = pat.copy()\n",
    "            if len(noun_verb)>0 or len(pat)>0:\n",
    "                sent[token.text]=one_sent\n",
    "            \n",
    "            pat.clear()\n",
    "\n",
    "    return sent\n"
   ]
  },
  {
   "cell_type": "code",
   "execution_count": 81,
   "id": "94eb221e",
   "metadata": {},
   "outputs": [
    {
     "data": {
      "text/plain": [
       "{'door': {'verb': 'open', 'adj': ['front']}}"
      ]
     },
     "execution_count": 81,
     "metadata": {},
     "output_type": "execute_result"
    }
   ],
   "source": [
    "nvn_an(\"open the front door\")"
   ]
  },
  {
   "cell_type": "code",
   "execution_count": 82,
   "id": "a1de3cfe",
   "metadata": {},
   "outputs": [
    {
     "data": {
      "text/plain": [
       "{'color': {'verb': 'change', 'adj': ['interior']}}"
      ]
     },
     "execution_count": 82,
     "metadata": {},
     "output_type": "execute_result"
    }
   ],
   "source": [
    "nvn_an(\"change the interior color to blue\")"
   ]
  },
  {
   "cell_type": "code",
   "execution_count": 83,
   "id": "6c790630",
   "metadata": {},
   "outputs": [
    {
     "data": {
      "text/plain": [
       "{'Position': {'move': ['which directions do you want to move your car?',\n",
       "   'How far do you want your car to go?']},\n",
       " 'color': {'change': ['what color do you want to change your car?',\n",
       "   'which part of car do you want to change the color?']},\n",
       " 'lights': {'turn on': ['which lights do you want to turn on?'],\n",
       "  'turn off': ['which lights do you want to turn off?']},\n",
       " 'door': {'open': ['which door do you want to open?'],\n",
       "  'close': ['which door do you want to close']},\n",
       " 'wheel': ['what types of wheels do you want to change or replace?']}"
      ]
     },
     "execution_count": 83,
     "metadata": {},
     "output_type": "execute_result"
    }
   ],
   "source": [
    "fileName = \"cmdDict.json\"\n",
    "f = open(fileName)\n",
    "data = json.load(f)\n",
    "autoCmd = data[\"auto\"][\"nouns\"]\n",
    "autoCmd"
   ]
  },
  {
   "cell_type": "code",
   "execution_count": 84,
   "id": "099aa1c6",
   "metadata": {},
   "outputs": [],
   "source": [
    "def cmdInference(cmd,df):\n",
    "    if cmd is None:\n",
    "        return None\n",
    "    res = nvn_an(cmd)\n",
    "    print(res)\n",
    "    # all decorative nouns\n",
    "    for n in res.keys():\n",
    "        # if the result dictionary has verb in local dataset\n",
    "        if n in autoCmd:\n",
    "            if len(res[n][\"verb\"])==0:\n",
    "                raise Exception(\"Invalid Command without verb\")\n",
    "            else:\n",
    "                queryVerb = res[n][\"verb\"]\n",
    "                queryAdj = res[n][\"adj\"]\n",
    "                if queryVerb in autoCmd[n]:\n",
    "                    if len(queryAdj)==0:\n",
    "                        for question in autoCmd[n][queryVerb]:\n",
    "                            print(question)\n",
    "                    else:\n",
    "                        print(\"action\")\n",
    "                        \n",
    "        else:\n",
    "            print(\"invalid Command\")\n",
    "        "
   ]
  },
  {
   "cell_type": "code",
   "execution_count": 89,
   "id": "123a49e1",
   "metadata": {},
   "outputs": [
    {
     "name": "stdout",
     "output_type": "stream",
     "text": [
      "{'color': {'verb': 'change', 'adj': []}}\n",
      "what color do you want to change your car?\n",
      "which part of car do you want to change the color?\n"
     ]
    }
   ],
   "source": [
    "#\"change the interior color to blue\"\n",
    "cmdInference(\"change the color\",autoCmd)"
   ]
  },
  {
   "cell_type": "code",
   "execution_count": 90,
   "id": "04526b28",
   "metadata": {},
   "outputs": [
    {
     "name": "stdout",
     "output_type": "stream",
     "text": [
      "{'door': {'verb': 'open', 'adj': []}}\n",
      "which door do you want to open?\n"
     ]
    }
   ],
   "source": [
    "cmdInference(\"open the door\",autoCmd)"
   ]
  },
  {
   "cell_type": "code",
   "execution_count": 87,
   "id": "2aa1d499",
   "metadata": {},
   "outputs": [
    {
     "name": "stdout",
     "output_type": "stream",
     "text": [
      "{'door': {'verb': 'open', 'adj': ['back']}}\n",
      "action\n"
     ]
    }
   ],
   "source": [
    "cmdInference(\"open the back door\",autoCmd)"
   ]
  },
  {
   "cell_type": "code",
   "execution_count": null,
   "id": "f32bddc2",
   "metadata": {},
   "outputs": [],
   "source": []
  }
 ],
 "metadata": {
  "kernelspec": {
   "display_name": "Python 3 (ipykernel)",
   "language": "python",
   "name": "python3"
  },
  "language_info": {
   "codemirror_mode": {
    "name": "ipython",
    "version": 3
   },
   "file_extension": ".py",
   "mimetype": "text/x-python",
   "name": "python",
   "nbconvert_exporter": "python",
   "pygments_lexer": "ipython3",
   "version": "3.9.13"
  }
 },
 "nbformat": 4,
 "nbformat_minor": 5
}
